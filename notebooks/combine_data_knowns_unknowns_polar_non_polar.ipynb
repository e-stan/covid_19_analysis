{
 "cells": [
  {
   "cell_type": "code",
   "execution_count": 58,
   "metadata": {},
   "outputs": [],
   "source": [
    "import pandas as pd \n",
    "import numpy as np\n",
    "mzTol = 15\n",
    "rtTol = .5\n",
    "\n",
    "\n",
    "def same(feat1,feat2):\n",
    "    mz1,rt1 = feat1\n",
    "    mz2,rt2 = feat2\n",
    "    if abs(rt1-rt2) < rtTol:\n",
    "        if 1e6 * np.abs(mz1-mz2)/mz1 < mzTol:\n",
    "            return True\n",
    "    return False"
   ]
  },
  {
   "cell_type": "code",
   "execution_count": 62,
   "metadata": {
    "scrolled": true
   },
   "outputs": [
    {
     "name": "stdout",
     "output_type": "stream",
     "text": [
      "200\n"
     ]
    }
   ],
   "source": [
    "#load in metadata and peak areas and associate\n",
    "\n",
    "#read in peak data\n",
    "datafilename = \"../data/07_30_2020_batch_1_6_qTOF_polar_non_polar_peak_areas.csv\"\n",
    "data = pd.read_csv(datafilename)\n",
    "\n",
    "#get area columns\n",
    "areaCols = data.columns.values[5:]\n",
    "\n",
    "datafilename = \"../data/UNKOWNS_Polars_IdX_B1-6_WU350.csv\"\n",
    "dataUnk = pd.read_csv(datafilename)\n",
    "\n",
    "#get area columns\n",
    "areaColsUnk = dataUnk.columns.values[3:]\n",
    "newNameMapping = {}\n",
    "for samp in areaColsUnk:\n",
    "    sampName = str(samp)\n",
    "    sampName = sampName.replace(\"pns_\",\"\")\n",
    "\n",
    "    newNameMapping[samp] = sampName\n",
    "\n",
    "dataUnk = dataUnk.rename(newNameMapping,axis=1)\n",
    "for x1 in range(len(dataUnk.columns.values)):\n",
    "    for x2 in range(len(dataUnk.columns.values)):\n",
    "        if x1 != x2:\n",
    "            if dataUnk.columns.values[x1] == dataUnk.columns.values[x2]:\n",
    "                print(dataUnk.columns.values[x1])\n",
    "rows2Drop = []\n",
    "for index,row in dataUnk.iterrows():\n",
    "    pol = row[\"Polarity\"]\n",
    "    feat = (row[\"Mass\"],row[\"RT\"])\n",
    "    if pol == \"neg\":\n",
    "        filt = data[data[\"Compound Name\"].str.contains(\"pHILICneg\")]\n",
    "        delta = -1.007\n",
    "    elif pol == \"pos\":\n",
    "        filt = data[data[\"Compound Name\"].str.contains(\"pHILICpos\")]\n",
    "        delta = 1.007\n",
    "    for index2,row2 in filt.iterrows():\n",
    "        if same(feat,(row2[\"Mass\"]+delta,row2[\"RT\"])):\n",
    "            rows2Drop.append(index)\n",
    "            break\n",
    "    dataUnk.at[index,\"Compound Name\"] = pol + \"_\" + dataUnk.at[index,\"Compound Name\"]\n",
    "dataUnk = dataUnk.drop(rows2Drop)\n",
    "print(len(rows2Drop))"
   ]
  },
  {
   "cell_type": "code",
   "execution_count": null,
   "metadata": {},
   "outputs": [],
   "source": []
  },
  {
   "cell_type": "code",
   "execution_count": 70,
   "metadata": {},
   "outputs": [],
   "source": [
    "combined = pd.concat((data[list(dataUnk.columns.values[1:4]) + list(areaCols)],dataUnk[dataUnk.columns.values[1:]]),axis=0)\n",
    "combined.to_csv(\"../data/08_10_2020_batch_1_6_polar_non_polar_id_unk_peak_areas.csv\",index=False)"
   ]
  },
  {
   "cell_type": "code",
   "execution_count": null,
   "metadata": {},
   "outputs": [],
   "source": []
  },
  {
   "cell_type": "code",
   "execution_count": null,
   "metadata": {},
   "outputs": [],
   "source": []
  },
  {
   "cell_type": "code",
   "execution_count": null,
   "metadata": {},
   "outputs": [],
   "source": []
  }
 ],
 "metadata": {
  "kernelspec": {
   "display_name": "Python 3",
   "language": "python",
   "name": "python3"
  },
  "language_info": {
   "codemirror_mode": {
    "name": "ipython",
    "version": 3
   },
   "file_extension": ".py",
   "mimetype": "text/x-python",
   "name": "python",
   "nbconvert_exporter": "python",
   "pygments_lexer": "ipython3",
   "version": "3.7.6"
  }
 },
 "nbformat": 4,
 "nbformat_minor": 4
}
